{
 "cells": [
  {
   "cell_type": "code",
   "execution_count": 41,
   "metadata": {},
   "outputs": [],
   "source": [
    "import numpy as np"
   ]
  },
  {
   "cell_type": "code",
   "execution_count": 42,
   "metadata": {},
   "outputs": [
    {
     "name": "stdout",
     "output_type": "stream",
     "text": [
      "1.23.4\n"
     ]
    }
   ],
   "source": [
    "print(np.__version__)"
   ]
  },
  {
   "cell_type": "code",
   "execution_count": 43,
   "metadata": {},
   "outputs": [
    {
     "name": "stdout",
     "output_type": "stream",
     "text": [
      "[1 2 3 4]\n",
      "(4,)\n",
      "int32\n",
      "1\n",
      "4\n",
      "4\n",
      "[ 2  0  6 12]\n"
     ]
    }
   ],
   "source": [
    "a=np.array([1,2,3,4])\n",
    "print(a)\n",
    "# this returns a tuple \n",
    "print(a.shape)\n",
    "# this tells us the data type\n",
    "print(a.dtype)\n",
    "# tells us about dimension\n",
    "print(a.ndim)\n",
    "# this tells us about the number of elements\n",
    "print(a.size)\n",
    "# tell us about item size\n",
    "# since its an array of int32 so each item is 32 bits or 4 bytes\n",
    "print(a.itemsize)\n",
    "\n",
    "#indexing it same as convential arrays a[0]\n",
    "\n",
    "#multiplies element by element\n",
    "b = a * np.array([2,0,2,3])\n",
    "print(b)"
   ]
  },
  {
   "cell_type": "code",
   "execution_count": 44,
   "metadata": {},
   "outputs": [
    {
     "name": "stdout",
     "output_type": "stream",
     "text": [
      "[1, 2, 3, 4, 5]\n",
      "[1, 2, 3, 4, 5, 4]\n",
      "[5 6 7 8]\n"
     ]
    }
   ],
   "source": [
    "# difference between numpy list and arrays \n",
    "a=np.array([1,2,3,4])\n",
    "l = [1,2,3,4]\n",
    "l.append(5)\n",
    "print(l)\n",
    "# a.append(4) this will fail\n",
    "l += [4]\n",
    "print(l)\n",
    "# this is called broadcasting and isnt same as arrays  (it doesnt append)\n",
    "# a+= np.array([4,4,4,4]) does the same thing as below !\n",
    "a+= np.array([4])\n",
    "print(a)\n",
    "\n"
   ]
  },
  {
   "cell_type": "code",
   "execution_count": 45,
   "metadata": {},
   "outputs": [
    {
     "name": "stdout",
     "output_type": "stream",
     "text": [
      "[1, 2, 3, 4, 1, 2, 3, 4]\n",
      "[2 4 6 8]\n"
     ]
    }
   ],
   "source": [
    "a=np.array([1,2,3,4])\n",
    "l = [1,2,3,4]\n",
    "# repeats the array and appends\n",
    "print(l*2)\n",
    "# where as for numpy it multiplies each element ( no append )\n",
    "print( a * 2)\n",
    "# similarly for np.log np.sqrt it behaves likes this "
   ]
  },
  {
   "cell_type": "code",
   "execution_count": 46,
   "metadata": {},
   "outputs": [
    {
     "name": "stdout",
     "output_type": "stream",
     "text": [
      "14\n",
      "14\n",
      "14\n",
      "14\n",
      "14\n"
     ]
    }
   ],
   "source": [
    "# product differences\n",
    "#dot product \n",
    "a=np.array([1,2,3])\n",
    "b=np.array([1,2,3])\n",
    "l1 = [1,2,3]\n",
    "l2 = [1,2,3]\n",
    "\n",
    "# in lists\n",
    "dot = 0 \n",
    "for i in range(len(l1)):\n",
    "    dot += l1[i]*l2[i]\n",
    "print(dot)\n",
    "\n",
    "# same in numpy \n",
    "dot = np.dot(a,b)\n",
    "print(dot)\n",
    "\n",
    "# or using this method\n",
    "sum1 = a*b\n",
    "dot = np.sum(sum1)\n",
    "print(dot)\n",
    "\n",
    "# alternative smaller code\n",
    "dot = (a*b).sum()\n",
    "print(dot)\n",
    "\n",
    "#using @\n",
    "dot = a@b\n",
    "print(dot)\n",
    "\n",
    "# can convert numpy array to a list using list() \n",
    "# in terms of speed numpy is faster than normal lists "
   ]
  },
  {
   "cell_type": "code",
   "execution_count": 55,
   "metadata": {},
   "outputs": [
    {
     "name": "stdout",
     "output_type": "stream",
     "text": [
      "(2, 2)\n",
      "1\n",
      "1\n",
      "[1 2]\n",
      "[2 4]\n",
      "[[1 3]\n",
      " [2 4]]\n",
      "[[-2.   1. ]\n",
      " [ 1.5 -0.5]]\n",
      "[1 4]\n",
      "[[1 0]\n",
      " [0 4]]\n"
     ]
    }
   ],
   "source": [
    "# multi dimensional arrays\n",
    "a = np.array([[1,2],[3,4]])\n",
    "print(a.shape)\n",
    "#indexing same as 2d array\n",
    "#shorter syntax\n",
    "print(a[0,0])\n",
    "print(a[0][0])\n",
    "# slicing\n",
    "# row sliced * we sliced row with index 0 \n",
    "print(a[0,:])\n",
    "# column sliced * we sliced column with index 1\n",
    "print(a[:,1])\n",
    "\n",
    "#tranpose using .T\n",
    "print(a.T)\n",
    "\n",
    "#inverse using linalg * it requires a square array \n",
    "print(np.linalg.inv(a))\n",
    "\n",
    "# linalg.det gives determinant\n",
    "# diagonal matrix using np.diag()\n",
    "print(np.diag(a))\n",
    "# its overloaded so passing a 1d array \n",
    "# causes it to generate a diagonal matrix \n",
    "# using the 1d array elements as diagonals\n",
    "print(np.diag(np.diag(a)))"
   ]
  },
  {
   "cell_type": "code",
   "execution_count": null,
   "metadata": {},
   "outputs": [],
   "source": []
  }
 ],
 "metadata": {
  "kernelspec": {
   "display_name": "Python 3",
   "language": "python",
   "name": "python3"
  },
  "language_info": {
   "codemirror_mode": {
    "name": "ipython",
    "version": 3
   },
   "file_extension": ".py",
   "mimetype": "text/x-python",
   "name": "python",
   "nbconvert_exporter": "python",
   "pygments_lexer": "ipython3",
   "version": "3.11.0"
  },
  "orig_nbformat": 4,
  "vscode": {
   "interpreter": {
    "hash": "5238573367df39f7286bb46f9ff5f08f63a01a80960060ce41e3c79b190280fa"
   }
  }
 },
 "nbformat": 4,
 "nbformat_minor": 2
}
